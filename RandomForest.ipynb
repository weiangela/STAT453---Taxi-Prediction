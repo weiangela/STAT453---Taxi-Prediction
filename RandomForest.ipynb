{
 "cells": [
  {
   "cell_type": "code",
   "execution_count": 1,
   "id": "4960463c-2527-4048-a6b7-7f9d668f4c91",
   "metadata": {},
   "outputs": [],
   "source": [
    "import pyarrow.parquet as pq\n",
    "import random\n",
    "import pandas as pd\n",
    "import matplotlib.pyplot as plt\n",
    "\n",
    "from sklearn import tree\n",
    "from sklearn.tree import DecisionTreeClassifier\n",
    "from sklearn.model_selection import train_test_split\n",
    "from sklearn import metrics\n",
    "from sklearn.ensemble import RandomForestClassifier\n",
    "\n",
    "pd.set_option('display.max_rows', 500)\n",
    "pd.set_option('display.max_columns', 500)\n",
    "pd.set_option('display.width', 1000)"
   ]
  },
  {
   "cell_type": "code",
   "execution_count": 2,
   "id": "84bfd7c9-c5df-4ec2-972a-89efcbf43e11",
   "metadata": {},
   "outputs": [],
   "source": [
    "RANDOM_SEED = 123\n",
    "\n",
    "raw = pq.read_table('./Data/not_onehot_cleaned_taxi_data.parquet')\n",
    "#raw = pq.read_table('./Data/cleaned_taxi_data.parquet')\n",
    "raw = raw.to_pandas()\n",
    "\n",
    "\n",
    "X = raw.drop(['tip_amount', 'total_amount', 'tip_pct', 'tip_bin'], axis = 1)\n",
    "y = raw['tip_bin'].astype('category')\n",
    "\n",
    "X_train, X_test, y_train, y_test = train_test_split(X, y, test_size=0.25, random_state=RANDOM_SEED)\n"
   ]
  },
  {
   "cell_type": "code",
   "execution_count": 3,
   "id": "297f37ac-4ded-4330-b27a-04d86209c18e",
   "metadata": {},
   "outputs": [],
   "source": [
    "feature_names = X_train.columns"
   ]
  },
  {
   "cell_type": "code",
   "execution_count": 9,
   "id": "686873b5-696b-4228-b9ec-85e84a0f9880",
   "metadata": {},
   "outputs": [
    {
     "data": {
      "text/plain": [
       "54775"
      ]
     },
     "execution_count": 9,
     "metadata": {},
     "output_type": "execute_result"
    }
   ],
   "source": [
    "# Create Decision Tree classifer object\n",
    "clf = DecisionTreeClassifier(random_state = RANDOM_SEED, max_depth = 25)\n",
    "clf.fit(X_train, y_train)\n",
    "\n",
    "path = clf.cost_complexity_pruning_path(X_train, y_train)\n",
    "ccp_alphas, impurities = path.ccp_alphas, path.impurities\n",
    "\n",
    "ccp_alphas.size"
   ]
  },
  {
   "cell_type": "code",
   "execution_count": 10,
   "id": "6f1de04c-c072-4d7f-96de-9b0cc9a54a23",
   "metadata": {},
   "outputs": [
    {
     "name": "stdout",
     "output_type": "stream",
     "text": [
      "Train: 0.870490732687301\n",
      "Test: 0.7565223961371671\n"
     ]
    }
   ],
   "source": [
    "print(f'Train: {clf.score(X_train, y_train)}')\n",
    "print(f'Test: {clf.score(X_test, y_test)}')\n"
   ]
  },
  {
   "cell_type": "code",
   "execution_count": null,
   "id": "25d78922-66e0-4ac9-93be-13f137fffcdc",
   "metadata": {
    "editable": true,
    "slideshow": {
     "slide_type": ""
    },
    "tags": []
   },
   "outputs": [
    {
     "name": "stdout",
     "output_type": "stream",
     "text": [
      "50\n",
      "100\n"
     ]
    }
   ],
   "source": [
    "clf_dts = [] #created an array that we put decision tree into\n",
    "i = 0\n",
    "\n",
    "for ccp_alpha in ccp_alphas :\n",
    "    clf = DecisionTreeClassifier(random_state = RANDOM_SEED, ccp_alpha = ccp_alpha)\n",
    "    clf.fit(X_train, y_train)\n",
    "    clf_dts.append(clf)\n",
    "    i += 1\n",
    "    if (i % 50 == 0):\n",
    "        print(i)\n"
   ]
  },
  {
   "cell_type": "code",
   "execution_count": null,
   "id": "719201ea-82b7-4f79-8fe2-4e29ddba0eb0",
   "metadata": {},
   "outputs": [],
   "source": [
    "clfs = clf_dts[:-1]\n",
    "ccp_alphas = ccp_alphas[:-1]\n",
    "\n",
    "node_counts = [clf.tree_.node_count for clf in clfs]\n",
    "depth = [clf.tree_.max_depth for clf in clfs]\n",
    "fig, ax = plt.subplots(2, 1)\n",
    "ax[0].plot(ccp_alphas, node_counts, marker=\"o\", drawstyle=\"steps-post\")\n",
    "ax[0].set_xlabel(\"alpha\")\n",
    "ax[0].set_ylabel(\"number of nodes\")\n",
    "ax[0].set_title(\"Number of nodes vs alpha\")\n",
    "ax[1].plot(ccp_alphas, depth, marker=\"o\", drawstyle=\"steps-post\")\n",
    "ax[1].set_xlabel(\"alpha\")\n",
    "ax[1].set_ylabel(\"depth of tree\")\n",
    "ax[1].set_title(\"Depth vs alpha\")\n",
    "fig.tight_layout()"
   ]
  },
  {
   "cell_type": "code",
   "execution_count": null,
   "id": "40262283-3193-4320-bf4a-b48c68c6db6b",
   "metadata": {},
   "outputs": [],
   "source": [
    "train_scores = [clf.score(X_train, y_train) for clf in clfs]\n",
    "test_scores = [clf.score(X_test, y_test) for clf in clfs]\n",
    "\n",
    "fig, ax = plt.subplots()\n",
    "ax.set_xlabel(\"alpha\")\n",
    "ax.set_ylabel(\"accuracy\")\n",
    "ax.set_title(\"Accuracy vs alpha for training and testing sets\")\n",
    "ax.plot(ccp_alphas, train_scores, marker=\"o\", label=\"train\", drawstyle=\"steps-post\")\n",
    "ax.plot(ccp_alphas, test_scores, marker=\"o\", label=\"test\", drawstyle=\"steps-post\")\n",
    "ax.legend()\n",
    "plt.show()"
   ]
  },
  {
   "cell_type": "code",
   "execution_count": null,
   "id": "990b66ba-5816-4604-bf65-e956a0c30f8b",
   "metadata": {},
   "outputs": [],
   "source": [
    "#pd.Index(test_scores).argmax()\n",
    "print(f'Test Accuracy: {test_scores[1033]}')\n",
    "print(f'ccp_alpha: {clfs[1033]}')\n",
    "\n",
    "out_clf = clfs[1033]"
   ]
  },
  {
   "cell_type": "code",
   "execution_count": null,
   "id": "ab0c7f58-ec75-4c3f-9251-3c38372cb016",
   "metadata": {},
   "outputs": [],
   "source": [
    "tree.plot_tree(out_clf)"
   ]
  },
  {
   "cell_type": "code",
   "execution_count": null,
   "id": "354163c7-dad2-4e90-9b82-0f8399f56b31",
   "metadata": {},
   "outputs": [],
   "source": [
    "importances = out_clf.feature_importances_\n",
    "\n",
    "tree_importances = pd.Series(importances, index=feature_names)\n",
    "\n",
    "fig, ax = plt.subplots()\n",
    "tree_importances.plot.bar(ax=ax)\n",
    "ax.set_title(\"Feature importances using MDI\")\n",
    "ax.set_ylabel(\"Mean decrease in impurity\")\n",
    "fig.tight_layout()"
   ]
  },
  {
   "cell_type": "code",
   "execution_count": null,
   "id": "39697706-f272-4457-bc4f-558c6da440c0",
   "metadata": {},
   "outputs": [],
   "source": [
    "## Random Forest\n",
    "rf_clf = RandomForestClassifier(n_estimators = 100, max_depth=30, random_state=RANDOM_SEED)\n",
    "rf_clf.fit(X_train, y_train)\n",
    "\n",
    "rf_y_pred = rf_clf.predict(X_test)\n",
    "\n",
    "# Model Accuracy, how often is the classifier correct?\n",
    "print(\"Accuracy:\",metrics.accuracy_score(y_test, rf_y_pred))\n"
   ]
  },
  {
   "cell_type": "code",
   "execution_count": null,
   "id": "24ff8234-2cd1-44e6-bac3-1826eafb8263",
   "metadata": {},
   "outputs": [],
   "source": [
    "importances = rf_clf.feature_importances_\n",
    "std = pd.DataFrame([tree.feature_importances_ for tree in rf_clf.estimators_]).std(axis = 0)\n",
    "\n",
    "forest_importances = pd.Series(importances, index=X_train.columns)\n",
    "\n",
    "fig, ax = plt.subplots()\n",
    "forest_importances.plot.bar(yerr=std, ax=ax)\n",
    "ax.set_title(\"Feature importances using MDI\")\n",
    "ax.set_ylabel(\"Mean decrease in impurity\")\n",
    "fig.tight_layout()"
   ]
  }
 ],
 "metadata": {
  "kernelspec": {
   "display_name": "Python 3 (ipykernel)",
   "language": "python",
   "name": "python3"
  },
  "language_info": {
   "codemirror_mode": {
    "name": "ipython",
    "version": 3
   },
   "file_extension": ".py",
   "mimetype": "text/x-python",
   "name": "python",
   "nbconvert_exporter": "python",
   "pygments_lexer": "ipython3",
   "version": "3.11.5"
  }
 },
 "nbformat": 4,
 "nbformat_minor": 5
}
